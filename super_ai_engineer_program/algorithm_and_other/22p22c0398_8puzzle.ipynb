{
  "nbformat": 4,
  "nbformat_minor": 0,
  "metadata": {
    "colab": {
      "name": "22p22c0398-8puzzle.ipynb",
      "provenance": [],
      "collapsed_sections": []
    },
    "kernelspec": {
      "name": "python3",
      "display_name": "Python 3"
    },
    "accelerator": "GPU"
  },
  "cells": [
    {
      "cell_type": "code",
      "metadata": {
        "id": "g4nl09__mu9Q"
      },
      "source": [
        "import numpy as np "
      ],
      "execution_count": null,
      "outputs": []
    },
    {
      "cell_type": "code",
      "metadata": {
        "id": "SwS5hXovpK4b"
      },
      "source": [
        "\"\"\" PUZZLE CLASS \"\"\"\n",
        "\"\"\" 22p22c0398 Phonratichai waitrotchanaphuttha\n",
        "\n",
        "\"\"\"\n",
        "class Puzzle:\n",
        "    goal_state=[1,2,3,8,0,4,7,6,5] #ตั้งค่า goal_state\n",
        "    heuristic=None\n",
        "    evaluation_function=None\n",
        "    needs_hueristic=True\n",
        "    def __init__(self,state,parent,action,path_cost,needs_hueristic=True,display=True):\n",
        "        self.parent=parent\n",
        "        self.state=state\n",
        "        self.action=action\n",
        "        self.needs_hueristic\n",
        "        self.display = display\n",
        "        if parent:\n",
        "            self.path_cost = parent.path_cost + path_cost\n",
        "        else:\n",
        "            self.path_cost = path_cost\n",
        "        if needs_hueristic:\n",
        "            self.needs_hueristic=True\n",
        "            self.gen_heuristic()\n",
        "            self.evaluation_function=self.heuristic+self.path_cost #f_score = h_score + g_core\n",
        "\n",
        "    def gen_heuristic(self):\n",
        "        ''' คำนวนระยะห่างระหว่าง state ปัจจุบัน กับ goal_state '''\n",
        "        self.heuristic=0\n",
        "        for num in range(1,9):\n",
        "            distance=abs(self.state.index(num) - self.goal_state.index(num))\n",
        "            i=int(distance/3)\n",
        "            j=int(distance%3)\n",
        "            self.heuristic=self.heuristic+i+j\n",
        "    \n",
        "    def display_board(self):\n",
        "      if self.display:\n",
        "        print(\"= > show state <=\")\n",
        "        return print(np.array(self.state).reshape(3,3))\n",
        "\n",
        "    def is_win(self):\n",
        "        if self.state == self.goal_state:\n",
        "            print(\"finish goal test\")\n",
        "            print(np.array(self.state).reshape(3,3))\n",
        "            return True\n",
        "        return False\n",
        "\n",
        "    @staticmethod\n",
        "    def check_action_can_move(i,j): \n",
        "        actions = ['U', 'D', 'L', 'R']\n",
        "        if i == 0:  \n",
        "            actions.remove('U')\n",
        "        elif i == 2:  \n",
        "            actions.remove('D')\n",
        "        if j == 0:\n",
        "            actions.remove('L')\n",
        "        elif j == 2:\n",
        "            actions.remove('R')\n",
        "        return actions\n",
        "\n",
        "    def gen_child(self):\n",
        "        children=[]\n",
        "        x = self.state.index(0)\n",
        "        i = int(x / 3)\n",
        "        j = int(x % 3)\n",
        "        actions=self.check_action_can_move(i,j)\n",
        "\n",
        "        for action in actions:\n",
        "            new_state = self.state.copy()\n",
        "            if action is 'U':\n",
        "                new_state[x], new_state[x-3] = new_state[x-3], new_state[x]\n",
        "            elif action is 'D':\n",
        "                new_state[x], new_state[x+3] = new_state[x+3], new_state[x]\n",
        "            elif action is 'L':\n",
        "                new_state[x], new_state[x-1] = new_state[x-1], new_state[x]\n",
        "            elif action is 'R':\n",
        "                new_state[x], new_state[x+1] = new_state[x+1], new_state[x]\n",
        "            children.append(Puzzle(new_state,self,action,1,self.needs_hueristic,self.display))\n",
        "        self.display_board()\n",
        "        return children\n",
        "\n",
        "    def find_solution(self):\n",
        "        solution = []\n",
        "        solution.append(self.action)\n",
        "        path = self\n",
        "        while path.parent != None:\n",
        "            path = path.parent\n",
        "            solution.append(path.action)\n",
        "        solution = solution[:-1]\n",
        "        solution.reverse()\n",
        "        return solution"
      ],
      "execution_count": null,
      "outputs": []
    },
    {
      "cell_type": "code",
      "metadata": {
        "id": "HQXDvH-ao5Kn"
      },
      "source": [
        "from time import time \n",
        "from queue import PriorityQueue\n",
        "\n",
        "''' a * imprement  '''\n",
        "def a_star_search(puzzle):\n",
        "    t0 = time()\n",
        "    count=0\n",
        "    explored=[]\n",
        "    q = PriorityQueue()\n",
        "    q.put((puzzle.evaluation_function,count,puzzle))\n",
        "\n",
        "    while not q.empty():\n",
        "        node=q.get()\n",
        "        node=node[2] # เรียก Class Puzzle ที่เก็บไว้ขึ้นมา ทำให้สามารถ\n",
        "        explored.append(node.state) #เก็บ state ปัจจุบันไว้ใน list\n",
        "        if node.is_win(): # call check win\n",
        "            t1 = time() - t0\n",
        "            print('finish time:', t1)\n",
        "            return node.find_solution()\n",
        "\n",
        "        children=node.gen_child()\n",
        "        for child in children:\n",
        "            if child.state not in explored:\n",
        "                count += 1\n",
        "                q.put((child.evaluation_function,count,child))\n",
        "    return"
      ],
      "execution_count": null,
      "outputs": []
    },
    {
      "cell_type": "code",
      "metadata": {
        "id": "XMQ2sPAspbEE"
      },
      "source": [
        "puzzle_problem = [1, 3, 4,\n",
        "                  8, 6, 2,\n",
        "                  7, 0, 5]"
      ],
      "execution_count": null,
      "outputs": []
    },
    {
      "cell_type": "code",
      "metadata": {
        "id": "EzhizhKamt7Q",
        "colab": {
          "base_uri": "https://localhost:8080/",
          "height": 476
        },
        "outputId": "8331c70a-8300-452d-fb15-17ce9ae39cdd"
      },
      "source": [
        "puzzle = Puzzle(puzzle_problem,None,None,0,False,True)\n",
        "astar = a_star_search(puzzle)\n",
        "print('A* move:',astar)\n",
        "print('count move:', len(astar)) #ไม่รวม init state"
      ],
      "execution_count": null,
      "outputs": [
        {
          "output_type": "stream",
          "text": [
            "= > show state <=\n",
            "[[1 3 4]\n",
            " [8 6 2]\n",
            " [7 0 5]]\n",
            "= > show state <=\n",
            "[[1 3 4]\n",
            " [8 0 2]\n",
            " [7 6 5]]\n",
            "= > show state <=\n",
            "[[1 3 4]\n",
            " [8 2 0]\n",
            " [7 6 5]]\n",
            "= > show state <=\n",
            "[[1 3 0]\n",
            " [8 2 4]\n",
            " [7 6 5]]\n",
            "= > show state <=\n",
            "[[1 0 3]\n",
            " [8 2 4]\n",
            " [7 6 5]]\n",
            "finish goal test\n",
            "[[1 2 3]\n",
            " [8 0 4]\n",
            " [7 6 5]]\n",
            "finish time: 0.002921581268310547\n",
            "A* move: ['U', 'R', 'U', 'L', 'D']\n",
            "count move: 5\n"
          ],
          "name": "stdout"
        }
      ]
    },
    {
      "cell_type": "code",
      "metadata": {
        "id": "14x8IEvsnUTz"
      },
      "source": [
        ""
      ],
      "execution_count": null,
      "outputs": []
    }
  ]
}